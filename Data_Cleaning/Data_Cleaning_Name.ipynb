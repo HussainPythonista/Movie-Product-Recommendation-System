{
 "cells": [
  {
   "cell_type": "markdown",
   "id": "e2a93bf4",
   "metadata": {},
   "source": [
    "# Data cleaning\n",
    "\n",
    "    This particular notebook is used for clean the data's particularly in name folder in IMDB dataset, In initial step I clean the dataset one by on later stage I'll clean bulk manner "
   ]
  },
  {
   "cell_type": "code",
   "execution_count": 25,
   "id": "41b4146a",
   "metadata": {},
   "outputs": [
    {
     "name": "stdout",
     "output_type": "stream",
     "text": [
      "Note: you may need to restart the kernel to use updated packages.Collecting IMDbPY\n",
      "  Using cached IMDbPY-2022.7.9-py3-none-any.whl (1.2 kB)\n",
      "Collecting cinemagoer (from IMDbPY)\n",
      "  Using cached cinemagoer-2023.5.1-py3-none-any.whl (297 kB)\n",
      "Requirement already satisfied: SQLAlchemy in c:\\users\\mohammed\\anaconda3\\lib\\site-packages (from cinemagoer->IMDbPY) (1.4.39)\n",
      "Requirement already satisfied: lxml in c:\\users\\mohammed\\anaconda3\\lib\\site-packages (from cinemagoer->IMDbPY) (4.9.3)\n",
      "Requirement already satisfied: greenlet!=0.4.17 in c:\\users\\mohammed\\anaconda3\\lib\\site-packages (from SQLAlchemy->cinemagoer->IMDbPY) (2.0.1)\n",
      "Installing collected packages: cinemagoer, IMDbPY\n",
      "Successfully installed IMDbPY-2022.7.9 cinemagoer-2023.5.1\n",
      "\n"
     ]
    }
   ],
   "source": [
    "pip install IMDbPY\n"
   ]
  },
  {
   "cell_type": "code",
   "execution_count": 1,
   "id": "7ab2af0b",
   "metadata": {},
   "outputs": [],
   "source": [
    "#Importing Necessary library for data cleaning\n",
    "import pandas as pd \n",
    "import numpy as np"
   ]
  },
  {
   "cell_type": "code",
   "execution_count": 7,
   "id": "76158639",
   "metadata": {},
   "outputs": [],
   "source": [
    "#Loading data set in variable name\n",
    "name_Dataset=pd.read_csv(\"C:/Users/Mohammed/Downloads/IMDB/Movie_Data/name.basics.tsv/data.tsv\",sep=\"\\t\",on_bad_lines='skip')"
   ]
  },
  {
   "cell_type": "code",
   "execution_count": 8,
   "id": "34f29cce",
   "metadata": {},
   "outputs": [
    {
     "data": {
      "text/html": [
       "<div>\n",
       "<style scoped>\n",
       "    .dataframe tbody tr th:only-of-type {\n",
       "        vertical-align: middle;\n",
       "    }\n",
       "\n",
       "    .dataframe tbody tr th {\n",
       "        vertical-align: top;\n",
       "    }\n",
       "\n",
       "    .dataframe thead th {\n",
       "        text-align: right;\n",
       "    }\n",
       "</style>\n",
       "<table border=\"1\" class=\"dataframe\">\n",
       "  <thead>\n",
       "    <tr style=\"text-align: right;\">\n",
       "      <th></th>\n",
       "      <th>nconst</th>\n",
       "      <th>primaryName</th>\n",
       "      <th>birthYear</th>\n",
       "      <th>deathYear</th>\n",
       "      <th>primaryProfession</th>\n",
       "      <th>knownForTitles</th>\n",
       "    </tr>\n",
       "  </thead>\n",
       "  <tbody>\n",
       "    <tr>\n",
       "      <th>0</th>\n",
       "      <td>nm0000001</td>\n",
       "      <td>Fred Astaire</td>\n",
       "      <td>1899</td>\n",
       "      <td>1987</td>\n",
       "      <td>soundtrack,actor,miscellaneous</td>\n",
       "      <td>tt0072308,tt0053137,tt0050419,tt0031983</td>\n",
       "    </tr>\n",
       "    <tr>\n",
       "      <th>1</th>\n",
       "      <td>nm0000002</td>\n",
       "      <td>Lauren Bacall</td>\n",
       "      <td>1924</td>\n",
       "      <td>2014</td>\n",
       "      <td>actress,soundtrack</td>\n",
       "      <td>tt0038355,tt0075213,tt0037382,tt0117057</td>\n",
       "    </tr>\n",
       "    <tr>\n",
       "      <th>2</th>\n",
       "      <td>nm0000003</td>\n",
       "      <td>Brigitte Bardot</td>\n",
       "      <td>1934</td>\n",
       "      <td>\\N</td>\n",
       "      <td>actress,soundtrack,music_department</td>\n",
       "      <td>tt0056404,tt0054452,tt0057345,tt0049189</td>\n",
       "    </tr>\n",
       "    <tr>\n",
       "      <th>3</th>\n",
       "      <td>nm0000004</td>\n",
       "      <td>John Belushi</td>\n",
       "      <td>1949</td>\n",
       "      <td>1982</td>\n",
       "      <td>actor,soundtrack,writer</td>\n",
       "      <td>tt0080455,tt0078723,tt0072562,tt0077975</td>\n",
       "    </tr>\n",
       "    <tr>\n",
       "      <th>4</th>\n",
       "      <td>nm0000005</td>\n",
       "      <td>Ingmar Bergman</td>\n",
       "      <td>1918</td>\n",
       "      <td>2007</td>\n",
       "      <td>writer,director,actor</td>\n",
       "      <td>tt0050986,tt0050976,tt0069467,tt0083922</td>\n",
       "    </tr>\n",
       "  </tbody>\n",
       "</table>\n",
       "</div>"
      ],
      "text/plain": [
       "      nconst      primaryName birthYear deathYear  \\\n",
       "0  nm0000001     Fred Astaire      1899      1987   \n",
       "1  nm0000002    Lauren Bacall      1924      2014   \n",
       "2  nm0000003  Brigitte Bardot      1934        \\N   \n",
       "3  nm0000004     John Belushi      1949      1982   \n",
       "4  nm0000005   Ingmar Bergman      1918      2007   \n",
       "\n",
       "                     primaryProfession  \\\n",
       "0       soundtrack,actor,miscellaneous   \n",
       "1                   actress,soundtrack   \n",
       "2  actress,soundtrack,music_department   \n",
       "3              actor,soundtrack,writer   \n",
       "4                writer,director,actor   \n",
       "\n",
       "                            knownForTitles  \n",
       "0  tt0072308,tt0053137,tt0050419,tt0031983  \n",
       "1  tt0038355,tt0075213,tt0037382,tt0117057  \n",
       "2  tt0056404,tt0054452,tt0057345,tt0049189  \n",
       "3  tt0080455,tt0078723,tt0072562,tt0077975  \n",
       "4  tt0050986,tt0050976,tt0069467,tt0083922  "
      ]
     },
     "execution_count": 8,
     "metadata": {},
     "output_type": "execute_result"
    }
   ],
   "source": [
    "#Checking How the dataset look's like\n",
    "name_Dataset.head()"
   ]
  },
  {
   "cell_type": "markdown",
   "id": "eb059f89",
   "metadata": {},
   "source": [
    "#### Checking information about the dataset\n"
   ]
  },
  {
   "cell_type": "code",
   "execution_count": 30,
   "id": "fb077ace",
   "metadata": {},
   "outputs": [],
   "source": [
    "name_data_2=name_Dataset.copy()"
   ]
  },
  {
   "cell_type": "code",
   "execution_count": 31,
   "id": "54ee4742",
   "metadata": {},
   "outputs": [
    {
     "data": {
      "text/plain": [
       "(13123690, 6)"
      ]
     },
     "execution_count": 31,
     "metadata": {},
     "output_type": "execute_result"
    }
   ],
   "source": [
    "#Length check\n",
    "name_data_2.shape"
   ]
  },
  {
   "cell_type": "code",
   "execution_count": 32,
   "id": "00b3e2c6",
   "metadata": {},
   "outputs": [
    {
     "name": "stdout",
     "output_type": "stream",
     "text": [
      "<class 'pandas.core.frame.DataFrame'>\n",
      "RangeIndex: 13123690 entries, 0 to 13123689\n",
      "Data columns (total 6 columns):\n",
      " #   Column             Dtype \n",
      "---  ------             ----- \n",
      " 0   nconst             object\n",
      " 1   primaryName        object\n",
      " 2   birthYear          object\n",
      " 3   deathYear          object\n",
      " 4   primaryProfession  object\n",
      " 5   knownForTitles     object\n",
      "dtypes: object(6)\n",
      "memory usage: 600.8+ MB\n"
     ]
    }
   ],
   "source": [
    "name_data_2.info()"
   ]
  },
  {
   "cell_type": "markdown",
   "id": "3708993d",
   "metadata": {},
   "source": [
    "In above Info functions shows the information only about size and number of records and most importantly what the type of data."
   ]
  },
  {
   "cell_type": "code",
   "execution_count": 34,
   "id": "9ca57850",
   "metadata": {},
   "outputs": [],
   "source": [
    "col_name=name_data_2.columns"
   ]
  },
  {
   "cell_type": "code",
   "execution_count": 35,
   "id": "b7c109fc",
   "metadata": {},
   "outputs": [
    {
     "name": "stdout",
     "output_type": "stream",
     "text": [
      "nconst\n",
      "primaryName\n",
      "birthYear\n",
      "deathYear\n",
      "primaryProfession\n",
      "knownForTitles\n"
     ]
    }
   ],
   "source": [
    "for col in col_name:\n",
    "    print(col)"
   ]
  },
  {
   "cell_type": "code",
   "execution_count": 51,
   "id": "05cba626",
   "metadata": {},
   "outputs": [
    {
     "data": {
      "text/html": [
       "<div>\n",
       "<style scoped>\n",
       "    .dataframe tbody tr th:only-of-type {\n",
       "        vertical-align: middle;\n",
       "    }\n",
       "\n",
       "    .dataframe tbody tr th {\n",
       "        vertical-align: top;\n",
       "    }\n",
       "\n",
       "    .dataframe thead th {\n",
       "        text-align: right;\n",
       "    }\n",
       "</style>\n",
       "<table border=\"1\" class=\"dataframe\">\n",
       "  <thead>\n",
       "    <tr style=\"text-align: right;\">\n",
       "      <th></th>\n",
       "    </tr>\n",
       "  </thead>\n",
       "  <tbody>\n",
       "  </tbody>\n",
       "</table>\n",
       "</div>"
      ],
      "text/plain": [
       "Empty DataFrame\n",
       "Columns: []\n",
       "Index: []"
      ]
     },
     "execution_count": 51,
     "metadata": {},
     "output_type": "execute_result"
    }
   ],
   "source": [
    "unique_value_dataFrame=pd.DataFrame()\n",
    "unique_value_dataFrame"
   ]
  },
  {
   "cell_type": "code",
   "execution_count": 52,
   "id": "a98af9bd",
   "metadata": {},
   "outputs": [],
   "source": [
    "unique_value_dataFrame[[\"col_name\",\"value\"]]=0"
   ]
  },
  {
   "cell_type": "code",
   "execution_count": 53,
   "id": "6ab24e7e",
   "metadata": {},
   "outputs": [
    {
     "data": {
      "text/html": [
       "<div>\n",
       "<style scoped>\n",
       "    .dataframe tbody tr th:only-of-type {\n",
       "        vertical-align: middle;\n",
       "    }\n",
       "\n",
       "    .dataframe tbody tr th {\n",
       "        vertical-align: top;\n",
       "    }\n",
       "\n",
       "    .dataframe thead th {\n",
       "        text-align: right;\n",
       "    }\n",
       "</style>\n",
       "<table border=\"1\" class=\"dataframe\">\n",
       "  <thead>\n",
       "    <tr style=\"text-align: right;\">\n",
       "      <th></th>\n",
       "      <th>col_name</th>\n",
       "      <th>value</th>\n",
       "    </tr>\n",
       "  </thead>\n",
       "  <tbody>\n",
       "  </tbody>\n",
       "</table>\n",
       "</div>"
      ],
      "text/plain": [
       "Empty DataFrame\n",
       "Columns: [col_name, value]\n",
       "Index: []"
      ]
     },
     "execution_count": 53,
     "metadata": {},
     "output_type": "execute_result"
    }
   ],
   "source": [
    "unique_value_dataFrame"
   ]
  },
  {
   "cell_type": "code",
   "execution_count": 58,
   "id": "04cbef0e",
   "metadata": {},
   "outputs": [],
   "source": [
    "unique_value_dataFrame[\"col_name\"]='Pundai'\n",
    "unique_value_dataFrame[\"value\"]=0"
   ]
  },
  {
   "cell_type": "code",
   "execution_count": 59,
   "id": "1e1d1f7a",
   "metadata": {},
   "outputs": [
    {
     "data": {
      "text/html": [
       "<div>\n",
       "<style scoped>\n",
       "    .dataframe tbody tr th:only-of-type {\n",
       "        vertical-align: middle;\n",
       "    }\n",
       "\n",
       "    .dataframe tbody tr th {\n",
       "        vertical-align: top;\n",
       "    }\n",
       "\n",
       "    .dataframe thead th {\n",
       "        text-align: right;\n",
       "    }\n",
       "</style>\n",
       "<table border=\"1\" class=\"dataframe\">\n",
       "  <thead>\n",
       "    <tr style=\"text-align: right;\">\n",
       "      <th></th>\n",
       "      <th>col_name</th>\n",
       "      <th>value</th>\n",
       "    </tr>\n",
       "  </thead>\n",
       "  <tbody>\n",
       "  </tbody>\n",
       "</table>\n",
       "</div>"
      ],
      "text/plain": [
       "Empty DataFrame\n",
       "Columns: [col_name, value]\n",
       "Index: []"
      ]
     },
     "execution_count": 59,
     "metadata": {},
     "output_type": "execute_result"
    }
   ],
   "source": [
    "unique_value_dataFrame"
   ]
  }
 ],
 "metadata": {
  "kernelspec": {
   "display_name": "Python 3 (ipykernel)",
   "language": "python",
   "name": "python3"
  },
  "language_info": {
   "codemirror_mode": {
    "name": "ipython",
    "version": 3
   },
   "file_extension": ".py",
   "mimetype": "text/x-python",
   "name": "python",
   "nbconvert_exporter": "python",
   "pygments_lexer": "ipython3",
   "version": "3.11.5"
  }
 },
 "nbformat": 4,
 "nbformat_minor": 5
}
