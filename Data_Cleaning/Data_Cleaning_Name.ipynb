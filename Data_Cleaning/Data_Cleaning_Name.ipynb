{
 "cells": [
  {
   "cell_type": "markdown",
   "id": "e2a93bf4",
   "metadata": {},
   "source": [
    "# Data Cleaning Notebook\n",
    "\n",
    "## Introduction\n",
    "This Jupyter Notebook is dedicated to the crucial task of data cleaning. Data cleaning is an essential step in the data analysis process, ensuring that the dataset is accurate, consistent, and ready for further analysis. In this notebook, we will explore various data cleaning techniques to handle missing values, outliers, and inconsistencies in the dataset.\n",
    "\n",
    "## Objective\n",
    "The main objectives of this notebook are as follows:\n",
    "- Identify and handle missing data.\n",
    "- Detect and address outliers.\n",
    "- Standardize and clean data formats.\n",
    "- Address any inconsistencies or errors in the dataset.\n",
    "\n",
    "## Dataset\n",
    "For the purpose of this notebook, we are working with the IMDB Dataset especially Name of the persons. The dataset contains [nconst,primaryName,birthYear,deathYear,primaryProfession,knownForTitles] and is sourced from Kaggle. Cleaning this dataset is crucial for accurate and meaningful analysis.\n",
    "\n",
    "## Methods\n",
    "The data cleaning process will involve the following steps:\n",
    "1. **Handling Missing Data:** Identifying and addressing missing values in the dataset.\n",
    "2. **Outlier Detection and Treatment:** Identifying outliers and deciding on the appropriate treatment.\n",
    "3. **Data Standardization:** Ensuring consistent formats for data types, such as dates and categorical variables.\n",
    "4. **Error Correction:** Addressing any inconsistencies or errors in the dataset.\n",
    "\n",
    "## Code Explanation\n",
    "The code blocks in this notebook will demonstrate the application of various data cleaning techniques. Each step will be accompanied by comments and explanations to enhance readability.\n",
    "\n",
    "## Results\n",
    "The results of the data cleaning process will be reflected in an improved, cleaned dataset. Visualizations and summary statistics may be used to showcase the impact of the cleaning process on the data quality.\n",
    "\n",
    "## Conclusion\n",
    "Data cleaning lays the foundation for robust and reliable data analysis. A thoroughly cleaned dataset ensures that subsequent analyses are based on accurate and consistent information. This notebook concludes with a clean and refined dataset ready for further exploration and modeling.\n",
    "\n",
    "## References\n",
    "No external references are used in this notebook.\n",
    "\n",
    "## Acknowledgments\n",
    "No external contributions are acknowledged in this notebook."
   ]
  },
  {
   "cell_type": "code",
   "execution_count": 16,
   "id": "7ab2af0b",
   "metadata": {},
   "outputs": [],
   "source": [
    "#Importing Necessary library for data cleaning\n",
    "import pandas as pd \n",
    "import numpy as np"
   ]
  },
  {
   "cell_type": "code",
   "execution_count": 17,
   "id": "76158639",
   "metadata": {},
   "outputs": [],
   "source": [
    "#Loading data set in variable name\n",
    "name_Dataset=pd.read_csv(\"C:/Users/Mohammed/Downloads/IMDB/Movie_Data/name.basics.tsv/data.tsv\",sep=\"\\t\",on_bad_lines='skip')"
   ]
  },
  {
   "cell_type": "code",
   "execution_count": 65,
   "id": "34f29cce",
   "metadata": {},
   "outputs": [
    {
     "data": {
      "text/html": [
       "<div>\n",
       "<style scoped>\n",
       "    .dataframe tbody tr th:only-of-type {\n",
       "        vertical-align: middle;\n",
       "    }\n",
       "\n",
       "    .dataframe tbody tr th {\n",
       "        vertical-align: top;\n",
       "    }\n",
       "\n",
       "    .dataframe thead th {\n",
       "        text-align: right;\n",
       "    }\n",
       "</style>\n",
       "<table border=\"1\" class=\"dataframe\">\n",
       "  <thead>\n",
       "    <tr style=\"text-align: right;\">\n",
       "      <th></th>\n",
       "      <th>nconst</th>\n",
       "      <th>primaryName</th>\n",
       "      <th>birthYear</th>\n",
       "      <th>deathYear</th>\n",
       "      <th>primaryProfession</th>\n",
       "      <th>knownForTitles</th>\n",
       "    </tr>\n",
       "  </thead>\n",
       "  <tbody>\n",
       "    <tr>\n",
       "      <th>0</th>\n",
       "      <td>nm0000001</td>\n",
       "      <td>Fred Astaire</td>\n",
       "      <td>1899</td>\n",
       "      <td>1987</td>\n",
       "      <td>soundtrack,actor,miscellaneous</td>\n",
       "      <td>tt0072308,tt0053137,tt0050419,tt0031983</td>\n",
       "    </tr>\n",
       "    <tr>\n",
       "      <th>1</th>\n",
       "      <td>nm0000002</td>\n",
       "      <td>Lauren Bacall</td>\n",
       "      <td>1924</td>\n",
       "      <td>2014</td>\n",
       "      <td>actress,soundtrack</td>\n",
       "      <td>tt0038355,tt0075213,tt0037382,tt0117057</td>\n",
       "    </tr>\n",
       "    <tr>\n",
       "      <th>2</th>\n",
       "      <td>nm0000003</td>\n",
       "      <td>Brigitte Bardot</td>\n",
       "      <td>1934</td>\n",
       "      <td>\\N</td>\n",
       "      <td>actress,soundtrack,music_department</td>\n",
       "      <td>tt0056404,tt0054452,tt0057345,tt0049189</td>\n",
       "    </tr>\n",
       "    <tr>\n",
       "      <th>3</th>\n",
       "      <td>nm0000004</td>\n",
       "      <td>John Belushi</td>\n",
       "      <td>1949</td>\n",
       "      <td>1982</td>\n",
       "      <td>actor,soundtrack,writer</td>\n",
       "      <td>tt0080455,tt0078723,tt0072562,tt0077975</td>\n",
       "    </tr>\n",
       "    <tr>\n",
       "      <th>4</th>\n",
       "      <td>nm0000005</td>\n",
       "      <td>Ingmar Bergman</td>\n",
       "      <td>1918</td>\n",
       "      <td>2007</td>\n",
       "      <td>writer,director,actor</td>\n",
       "      <td>tt0050986,tt0050976,tt0069467,tt0083922</td>\n",
       "    </tr>\n",
       "  </tbody>\n",
       "</table>\n",
       "</div>"
      ],
      "text/plain": [
       "      nconst      primaryName birthYear deathYear  \\\n",
       "0  nm0000001     Fred Astaire      1899      1987   \n",
       "1  nm0000002    Lauren Bacall      1924      2014   \n",
       "2  nm0000003  Brigitte Bardot      1934        \\N   \n",
       "3  nm0000004     John Belushi      1949      1982   \n",
       "4  nm0000005   Ingmar Bergman      1918      2007   \n",
       "\n",
       "                     primaryProfession  \\\n",
       "0       soundtrack,actor,miscellaneous   \n",
       "1                   actress,soundtrack   \n",
       "2  actress,soundtrack,music_department   \n",
       "3              actor,soundtrack,writer   \n",
       "4                writer,director,actor   \n",
       "\n",
       "                            knownForTitles  \n",
       "0  tt0072308,tt0053137,tt0050419,tt0031983  \n",
       "1  tt0038355,tt0075213,tt0037382,tt0117057  \n",
       "2  tt0056404,tt0054452,tt0057345,tt0049189  \n",
       "3  tt0080455,tt0078723,tt0072562,tt0077975  \n",
       "4  tt0050986,tt0050976,tt0069467,tt0083922  "
      ]
     },
     "execution_count": 65,
     "metadata": {},
     "output_type": "execute_result"
    }
   ],
   "source": [
    "#Checking How the dataset look's like\n",
    "name_Dataset.head()"
   ]
  },
  {
   "cell_type": "markdown",
   "id": "eb059f89",
   "metadata": {},
   "source": [
    "#### Checking information about the dataset\n"
   ]
  },
  {
   "cell_type": "code",
   "execution_count": 66,
   "id": "fb077ace",
   "metadata": {},
   "outputs": [],
   "source": [
    "name_data_2=name_Dataset.copy()"
   ]
  },
  {
   "cell_type": "code",
   "execution_count": 67,
   "id": "54ee4742",
   "metadata": {},
   "outputs": [
    {
     "data": {
      "text/plain": [
       "(13123690, 6)"
      ]
     },
     "execution_count": 67,
     "metadata": {},
     "output_type": "execute_result"
    }
   ],
   "source": [
    "#Length check\n",
    "name_data_2.shape"
   ]
  },
  {
   "cell_type": "code",
   "execution_count": 68,
   "id": "00b3e2c6",
   "metadata": {},
   "outputs": [
    {
     "name": "stdout",
     "output_type": "stream",
     "text": [
      "<class 'pandas.core.frame.DataFrame'>\n",
      "RangeIndex: 13123690 entries, 0 to 13123689\n",
      "Data columns (total 6 columns):\n",
      " #   Column             Dtype \n",
      "---  ------             ----- \n",
      " 0   nconst             object\n",
      " 1   primaryName        object\n",
      " 2   birthYear          object\n",
      " 3   deathYear          object\n",
      " 4   primaryProfession  object\n",
      " 5   knownForTitles     object\n",
      "dtypes: object(6)\n",
      "memory usage: 600.8+ MB\n"
     ]
    }
   ],
   "source": [
    "name_data_2.info()"
   ]
  },
  {
   "cell_type": "markdown",
   "id": "3708993d",
   "metadata": {},
   "source": [
    "In above Info functions shows the information only about size and number of records and most importantly what the type of data."
   ]
  },
  {
   "cell_type": "code",
   "execution_count": 76,
   "id": "9ca57850",
   "metadata": {},
   "outputs": [
    {
     "data": {
      "text/plain": [
       "Index(['nconst', 'primaryName', 'birthYear', 'deathYear', 'primaryProfession',\n",
       "       'knownForTitles'],\n",
       "      dtype='object')"
      ]
     },
     "execution_count": 76,
     "metadata": {},
     "output_type": "execute_result"
    }
   ],
   "source": [
    "col_name=name_data_2.columns\n",
    "col_name"
   ]
  },
  {
   "cell_type": "code",
   "execution_count": 77,
   "id": "b7c109fc",
   "metadata": {},
   "outputs": [
    {
     "name": "stdout",
     "output_type": "stream",
     "text": [
      "nconst\n",
      "primaryName\n",
      "birthYear\n",
      "deathYear\n",
      "primaryProfession\n",
      "knownForTitles\n"
     ]
    }
   ],
   "source": [
    "for col in col_name:\n",
    "    print(col)"
   ]
  },
  {
   "cell_type": "code",
   "execution_count": 87,
   "id": "13ce182e",
   "metadata": {},
   "outputs": [
    {
     "data": {
      "text/plain": [
       "13123690"
      ]
     },
     "execution_count": 87,
     "metadata": {},
     "output_type": "execute_result"
    }
   ],
   "source": [
    "name_data_2.shape[0]"
   ]
  },
  {
   "cell_type": "code",
   "execution_count": 91,
   "id": "87f03ecc",
   "metadata": {},
   "outputs": [
    {
     "name": "stdout",
     "output_type": "stream",
     "text": [
      "{'Name': ['nconst', 'primaryName', 'birthYear', 'deathYear', 'primaryProfession', 'knownForTitles'], 'Unique_Val': [13123690, 10134299, 528, 470, 21645, 5577243]}\n"
     ]
    }
   ],
   "source": [
    "col_unique_val_dict={}\n",
    "\n",
    "\n",
    "list_col_name=[]\n",
    "value_col=[]\n",
    "no_duplicates=[]\n",
    "for col in (col_name):\n",
    "    list_col_name.append(col)\n",
    "    value_col.append(len(name_data_2[col].unique()))\n",
    "    #no_duplicates.append(int(name_data_2.shape[0])-len(name_data_2[col].unique()))\n",
    "    \n",
    "col_unique_val_dict[\"Name\"]=(list_col_name)\n",
    "col_unique_val_dict[\"Unique_Val\"]=(value_col)\n",
    "#no_duplicates[\"Duplicates\"]=no_duplicates\n",
    "print(col_unique_val_dict)"
   ]
  },
  {
   "cell_type": "code",
   "execution_count": 98,
   "id": "50150159",
   "metadata": {},
   "outputs": [],
   "source": [
    "no_duplicates=[]\n",
    "for col in (col_name):\n",
    "    no_duplicates.append(int(name_data_2.shape[0])-len(name_data_2[col].unique()))\n",
    "col_unique_val_dict[\"Duplicates\"]=no_duplicates"
   ]
  },
  {
   "cell_type": "code",
   "execution_count": 99,
   "id": "32faf749",
   "metadata": {},
   "outputs": [
    {
     "data": {
      "text/plain": [
       "{'Name': ['nconst',\n",
       "  'primaryName',\n",
       "  'birthYear',\n",
       "  'deathYear',\n",
       "  'primaryProfession',\n",
       "  'knownForTitles'],\n",
       " 'Unique_Val': [13123690, 10134299, 528, 470, 21645, 5577243],\n",
       " 'Duplicates': [0, 2989391, 13123162, 13123220, 13102045, 7546447]}"
      ]
     },
     "execution_count": 99,
     "metadata": {},
     "output_type": "execute_result"
    }
   ],
   "source": [
    "col_unique_val_dict"
   ]
  },
  {
   "cell_type": "code",
   "execution_count": 100,
   "id": "05cba626",
   "metadata": {},
   "outputs": [
    {
     "data": {
      "text/html": [
       "<div>\n",
       "<style scoped>\n",
       "    .dataframe tbody tr th:only-of-type {\n",
       "        vertical-align: middle;\n",
       "    }\n",
       "\n",
       "    .dataframe tbody tr th {\n",
       "        vertical-align: top;\n",
       "    }\n",
       "\n",
       "    .dataframe thead th {\n",
       "        text-align: right;\n",
       "    }\n",
       "</style>\n",
       "<table border=\"1\" class=\"dataframe\">\n",
       "  <thead>\n",
       "    <tr style=\"text-align: right;\">\n",
       "      <th></th>\n",
       "      <th>Name</th>\n",
       "      <th>Unique_Val</th>\n",
       "      <th>Duplicates</th>\n",
       "    </tr>\n",
       "  </thead>\n",
       "  <tbody>\n",
       "    <tr>\n",
       "      <th>0</th>\n",
       "      <td>nconst</td>\n",
       "      <td>13123690</td>\n",
       "      <td>0</td>\n",
       "    </tr>\n",
       "    <tr>\n",
       "      <th>1</th>\n",
       "      <td>primaryName</td>\n",
       "      <td>10134299</td>\n",
       "      <td>2989391</td>\n",
       "    </tr>\n",
       "    <tr>\n",
       "      <th>2</th>\n",
       "      <td>birthYear</td>\n",
       "      <td>528</td>\n",
       "      <td>13123162</td>\n",
       "    </tr>\n",
       "    <tr>\n",
       "      <th>3</th>\n",
       "      <td>deathYear</td>\n",
       "      <td>470</td>\n",
       "      <td>13123220</td>\n",
       "    </tr>\n",
       "    <tr>\n",
       "      <th>4</th>\n",
       "      <td>primaryProfession</td>\n",
       "      <td>21645</td>\n",
       "      <td>13102045</td>\n",
       "    </tr>\n",
       "    <tr>\n",
       "      <th>5</th>\n",
       "      <td>knownForTitles</td>\n",
       "      <td>5577243</td>\n",
       "      <td>7546447</td>\n",
       "    </tr>\n",
       "  </tbody>\n",
       "</table>\n",
       "</div>"
      ],
      "text/plain": [
       "                Name  Unique_Val  Duplicates\n",
       "0             nconst    13123690           0\n",
       "1        primaryName    10134299     2989391\n",
       "2          birthYear         528    13123162\n",
       "3          deathYear         470    13123220\n",
       "4  primaryProfession       21645    13102045\n",
       "5     knownForTitles     5577243     7546447"
      ]
     },
     "execution_count": 100,
     "metadata": {},
     "output_type": "execute_result"
    }
   ],
   "source": [
    "unique_value_dataFrame=pd.DataFrame(col_unique_val_dict)\n",
    "unique_value_dataFrame"
   ]
  },
  {
   "cell_type": "code",
   "execution_count": 107,
   "id": "6274de5a",
   "metadata": {},
   "outputs": [
    {
     "data": {
      "text/html": [
       "<div>\n",
       "<style scoped>\n",
       "    .dataframe tbody tr th:only-of-type {\n",
       "        vertical-align: middle;\n",
       "    }\n",
       "\n",
       "    .dataframe tbody tr th {\n",
       "        vertical-align: top;\n",
       "    }\n",
       "\n",
       "    .dataframe thead th {\n",
       "        text-align: right;\n",
       "    }\n",
       "</style>\n",
       "<table border=\"1\" class=\"dataframe\">\n",
       "  <thead>\n",
       "    <tr style=\"text-align: right;\">\n",
       "      <th></th>\n",
       "      <th>nconst</th>\n",
       "      <th>primaryName</th>\n",
       "      <th>birthYear</th>\n",
       "      <th>deathYear</th>\n",
       "      <th>primaryProfession</th>\n",
       "      <th>knownForTitles</th>\n",
       "    </tr>\n",
       "  </thead>\n",
       "  <tbody>\n",
       "    <tr>\n",
       "      <th>count</th>\n",
       "      <td>13123690</td>\n",
       "      <td>13123683</td>\n",
       "      <td>13123690</td>\n",
       "      <td>13123690</td>\n",
       "      <td>10500647</td>\n",
       "      <td>13123690</td>\n",
       "    </tr>\n",
       "    <tr>\n",
       "      <th>unique</th>\n",
       "      <td>13123690</td>\n",
       "      <td>10134298</td>\n",
       "      <td>528</td>\n",
       "      <td>470</td>\n",
       "      <td>21644</td>\n",
       "      <td>5577243</td>\n",
       "    </tr>\n",
       "    <tr>\n",
       "      <th>top</th>\n",
       "      <td>nm0000001</td>\n",
       "      <td>Alex</td>\n",
       "      <td>\\N</td>\n",
       "      <td>\\N</td>\n",
       "      <td>actor</td>\n",
       "      <td>\\N</td>\n",
       "    </tr>\n",
       "    <tr>\n",
       "      <th>freq</th>\n",
       "      <td>1</td>\n",
       "      <td>458</td>\n",
       "      <td>12522797</td>\n",
       "      <td>12900331</td>\n",
       "      <td>2369142</td>\n",
       "      <td>1463153</td>\n",
       "    </tr>\n",
       "  </tbody>\n",
       "</table>\n",
       "</div>"
      ],
      "text/plain": [
       "           nconst primaryName birthYear deathYear primaryProfession  \\\n",
       "count    13123690    13123683  13123690  13123690          10500647   \n",
       "unique   13123690    10134298       528       470             21644   \n",
       "top     nm0000001        Alex        \\N        \\N             actor   \n",
       "freq            1         458  12522797  12900331           2369142   \n",
       "\n",
       "       knownForTitles  \n",
       "count        13123690  \n",
       "unique        5577243  \n",
       "top                \\N  \n",
       "freq          1463153  "
      ]
     },
     "execution_count": 107,
     "metadata": {},
     "output_type": "execute_result"
    }
   ],
   "source": [
    "name_data_2.describe()"
   ]
  },
  {
   "cell_type": "code",
   "execution_count": 108,
   "id": "4d073303",
   "metadata": {},
   "outputs": [
    {
     "data": {
      "text/plain": [
       "nconst                     0\n",
       "primaryName                7\n",
       "birthYear                  0\n",
       "deathYear                  0\n",
       "primaryProfession    2623043\n",
       "knownForTitles             0\n",
       "dtype: int64"
      ]
     },
     "execution_count": 108,
     "metadata": {},
     "output_type": "execute_result"
    }
   ],
   "source": [
    "#Checking for total NaN values\n",
    "name_data_2.isna().sum()"
   ]
  },
  {
   "cell_type": "markdown",
   "id": "157838fc",
   "metadata": {},
   "source": [
    "As of now It seems three of the columns in data is not relevent for out recomentation system, so I'm gonna drop this\n",
    "        \n",
    "        - birthYear\n",
    "        - deathYear\n",
    "        - primaryProfession\n"
   ]
  },
  {
   "cell_type": "code",
   "execution_count": 113,
   "id": "6bcbf502",
   "metadata": {},
   "outputs": [
    {
     "data": {
      "text/html": [
       "<div>\n",
       "<style scoped>\n",
       "    .dataframe tbody tr th:only-of-type {\n",
       "        vertical-align: middle;\n",
       "    }\n",
       "\n",
       "    .dataframe tbody tr th {\n",
       "        vertical-align: top;\n",
       "    }\n",
       "\n",
       "    .dataframe thead th {\n",
       "        text-align: right;\n",
       "    }\n",
       "</style>\n",
       "<table border=\"1\" class=\"dataframe\">\n",
       "  <thead>\n",
       "    <tr style=\"text-align: right;\">\n",
       "      <th></th>\n",
       "      <th>nconst</th>\n",
       "      <th>primaryName</th>\n",
       "      <th>knownForTitles</th>\n",
       "    </tr>\n",
       "  </thead>\n",
       "  <tbody>\n",
       "    <tr>\n",
       "      <th>0</th>\n",
       "      <td>nm0000001</td>\n",
       "      <td>Fred Astaire</td>\n",
       "      <td>tt0072308,tt0053137,tt0050419,tt0031983</td>\n",
       "    </tr>\n",
       "    <tr>\n",
       "      <th>1</th>\n",
       "      <td>nm0000002</td>\n",
       "      <td>Lauren Bacall</td>\n",
       "      <td>tt0038355,tt0075213,tt0037382,tt0117057</td>\n",
       "    </tr>\n",
       "    <tr>\n",
       "      <th>2</th>\n",
       "      <td>nm0000003</td>\n",
       "      <td>Brigitte Bardot</td>\n",
       "      <td>tt0056404,tt0054452,tt0057345,tt0049189</td>\n",
       "    </tr>\n",
       "    <tr>\n",
       "      <th>3</th>\n",
       "      <td>nm0000004</td>\n",
       "      <td>John Belushi</td>\n",
       "      <td>tt0080455,tt0078723,tt0072562,tt0077975</td>\n",
       "    </tr>\n",
       "    <tr>\n",
       "      <th>4</th>\n",
       "      <td>nm0000005</td>\n",
       "      <td>Ingmar Bergman</td>\n",
       "      <td>tt0050986,tt0050976,tt0069467,tt0083922</td>\n",
       "    </tr>\n",
       "  </tbody>\n",
       "</table>\n",
       "</div>"
      ],
      "text/plain": [
       "      nconst      primaryName                           knownForTitles\n",
       "0  nm0000001     Fred Astaire  tt0072308,tt0053137,tt0050419,tt0031983\n",
       "1  nm0000002    Lauren Bacall  tt0038355,tt0075213,tt0037382,tt0117057\n",
       "2  nm0000003  Brigitte Bardot  tt0056404,tt0054452,tt0057345,tt0049189\n",
       "3  nm0000004     John Belushi  tt0080455,tt0078723,tt0072562,tt0077975\n",
       "4  nm0000005   Ingmar Bergman  tt0050986,tt0050976,tt0069467,tt0083922"
      ]
     },
     "execution_count": 113,
     "metadata": {},
     "output_type": "execute_result"
    }
   ],
   "source": [
    "#Dataset After dropped\n",
    "\n",
    "Relevent_Data=name_data_2.drop(columns=[\"birthYear\",\"deathYear\",\"primaryProfession\"])\n",
    "Relevent_Data.head()"
   ]
  },
  {
   "cell_type": "code",
   "execution_count": 121,
   "id": "27f4fe02",
   "metadata": {},
   "outputs": [],
   "source": [
    "Relevent_Data=Relevent_Data[Relevent_Data.primaryName.isna()==False]"
   ]
  },
  {
   "cell_type": "code",
   "execution_count": 129,
   "id": "4aebd7e6",
   "metadata": {},
   "outputs": [],
   "source": [
    "Relevent_Data.to_csv(\"C:/Users/Mohammed/OneDrive/Desktop/Cleaned_Data_IMDB/Name/Name_Data.csv\")"
   ]
  }
 ],
 "metadata": {
  "kernelspec": {
   "display_name": "Python 3 (ipykernel)",
   "language": "python",
   "name": "python3"
  },
  "language_info": {
   "codemirror_mode": {
    "name": "ipython",
    "version": 3
   },
   "file_extension": ".py",
   "mimetype": "text/x-python",
   "name": "python",
   "nbconvert_exporter": "python",
   "pygments_lexer": "ipython3",
   "version": "3.11.5"
  }
 },
 "nbformat": 4,
 "nbformat_minor": 5
}
