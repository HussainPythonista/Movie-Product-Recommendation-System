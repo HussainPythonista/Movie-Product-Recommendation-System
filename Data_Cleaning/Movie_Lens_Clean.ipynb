{
  "nbformat": 4,
  "nbformat_minor": 0,
  "metadata": {
    "colab": {
      "provenance": [],
      "authorship_tag": "ABX9TyNvGexX2OOeVMpaS1j06AV/",
      "include_colab_link": true
    },
    "kernelspec": {
      "name": "python3",
      "display_name": "Python 3"
    },
    "language_info": {
      "name": "python"
    }
  },
  "cells": [
    {
      "cell_type": "markdown",
      "metadata": {
        "id": "view-in-github",
        "colab_type": "text"
      },
      "source": [
        "<a href=\"https://colab.research.google.com/github/HussainPythonista/Movie-Product-Recommendation-System/blob/main/Data_Cleaning/Movie_Lens_Clean.ipynb\" target=\"_parent\"><img src=\"https://colab.research.google.com/assets/colab-badge.svg\" alt=\"Open In Colab\"/></a>"
      ]
    },
    {
      "cell_type": "code",
      "source": [
        "from google.colab import drive\n",
        "drive.mount('/content/drive')"
      ],
      "metadata": {
        "id": "bYcKQaL0TDPT",
        "colab": {
          "base_uri": "https://localhost:8080/"
        },
        "outputId": "3a53524f-cb8d-41e0-9008-730d62435df6"
      },
      "execution_count": 47,
      "outputs": [
        {
          "output_type": "stream",
          "name": "stdout",
          "text": [
            "Drive already mounted at /content/drive; to attempt to forcibly remount, call drive.mount(\"/content/drive\", force_remount=True).\n"
          ]
        }
      ]
    },
    {
      "cell_type": "markdown",
      "source": [
        "# Movie Lens Dataset For recommendation system\n",
        "\n",
        "   The MovieLens dataset is a popular and widely used dataset in the field of recommendation systems and collaborative filtering. It is provided by the GroupLens Research project, which is a research group in the Department of Computer Science and Engineering at the University of Minnesota. The dataset is designed for research on recommender systems, and it consists of user ratings and movie metadata.\n"
      ],
      "metadata": {
        "id": "iMTLcTlH4lrJ"
      }
    },
    {
      "cell_type": "markdown",
      "source": [],
      "metadata": {
        "id": "C_R-sP054qpi"
      }
    },
    {
      "cell_type": "markdown",
      "source": [
        "## About Dataset\n",
        "\n",
        "## Context\n",
        "The datasets describe ratings and free-text tagging activities from MovieLens, a movie recommendation service. It contains 20000263 ratings and 465564 tag applications across 27278 movies. These data were created by 138493 users between January 09, 1995 and March 31, 2015. This dataset was generated on October 17, 2016.\n",
        "\n",
        "Users were selected at random for inclusion. All selected users had rated at least 20 movies.\n",
        "\n",
        "### Ratings Data:\n",
        "\n",
        "  The 'ratings.csv' file typically contains information about user ratings for different movies.\n",
        "  Columns may include 'userId' (user identifier), 'movieId' (movie identifier), 'rating' (user's rating for the movie), and 'timestamp' (timestamp of the rating).\n",
        "\n",
        "### Movies Data:\n",
        "\n",
        "The 'movies.csv' file contains information about the movies themselves.\n",
        "Columns often include 'movieId' (unique movie identifier), 'title' (movie title), and 'genres' (genres associated with the movie).\n",
        "User-Movie Interaction:\n",
        "\n",
        "The dataset represents the interaction between users and movies through ratings. Users provide ratings for movies they have watched, indicating their preferences.\n",
        "### Collaborative Filtering:\n",
        "\n",
        "The dataset is often used for collaborative filtering algorithms. Collaborative filtering recommends items (movies in this case) to users based on the preferences and behavior of other users.\n",
        "Timestamps:\n",
        "\n",
        "The 'timestamp' field in the ratings data provides information about when a particular rating was given. This can be used for analyzing user behavior over time."
      ],
      "metadata": {
        "id": "idcRLLGYzoD9"
      }
    },
    {
      "cell_type": "markdown",
      "source": [
        "# Data Cleaning"
      ],
      "metadata": {
        "id": "WcGYJ3YX4bsf"
      }
    },
    {
      "cell_type": "markdown",
      "source": [
        "### Import Necessary Libraries"
      ],
      "metadata": {
        "id": "2gH-x5C80LvW"
      }
    },
    {
      "cell_type": "code",
      "source": [
        "import pandas as pd\n",
        "import numpy as np\n",
        "import matplotlib.pyplot as plt"
      ],
      "metadata": {
        "id": "C4VCYEbOah6O"
      },
      "execution_count": 48,
      "outputs": []
    },
    {
      "cell_type": "markdown",
      "source": [
        "### Load the Dataset"
      ],
      "metadata": {
        "id": "X0ro6OJ10m-A"
      }
    },
    {
      "cell_type": "code",
      "source": [
        "gnome_tags=pd.read_csv(\"/content/drive/MyDrive/Movie-Product-Recommendation /Datasets/movieLens_Dataset/genome_tags.csv\")\n",
        "gnome_scores=pd.read_csv(\"/content/drive/MyDrive/Movie-Product-Recommendation /Datasets/movieLens_Dataset/genome_scores (1).csv\")\n",
        "link=pd.read_csv(\"/content/drive/MyDrive/Movie-Product-Recommendation /Datasets/movieLens_Dataset/link.csv\")\n",
        "movie=pd.read_csv(\"/content/drive/MyDrive/Movie-Product-Recommendation /Datasets/movieLens_Dataset/movie.csv\")\n",
        "rating=pd.read_csv(\"/content/drive/MyDrive/Movie-Product-Recommendation /Datasets/movieLens_Dataset/rating.csv\")\n",
        "tag=pd.read_csv(\"/content/drive/MyDrive/Movie-Product-Recommendation /Datasets/movieLens_Dataset/tag.csv\")\n"
      ],
      "metadata": {
        "id": "jXL8G6uGa37p"
      },
      "execution_count": null,
      "outputs": []
    },
    {
      "cell_type": "markdown",
      "source": [
        "## File Wise Cleaning"
      ],
      "metadata": {
        "id": "7vPubKMO77op"
      }
    },
    {
      "cell_type": "markdown",
      "source": [
        "#### **genome_tags.csv that contains tag descriptions:**"
      ],
      "metadata": {
        "id": "4DADzDW45nUP"
      }
    },
    {
      "cell_type": "code",
      "source": [
        "gnome_tags"
      ],
      "metadata": {
        "id": "zdnS9vXfbgRb"
      },
      "execution_count": null,
      "outputs": []
    },
    {
      "cell_type": "code",
      "source": [
        "gnome_tags.isna().sum()"
      ],
      "metadata": {
        "id": "sNytV8Ni6Gpl"
      },
      "execution_count": null,
      "outputs": []
    },
    {
      "cell_type": "code",
      "source": [
        "gnome_tags.describe()"
      ],
      "metadata": {
        "id": "L-jNaTYl6LMZ"
      },
      "execution_count": null,
      "outputs": []
    },
    {
      "cell_type": "code",
      "source": [
        "gnome_tags.info()"
      ],
      "metadata": {
        "id": "KsCUHTYQ6Q8O"
      },
      "execution_count": null,
      "outputs": []
    },
    {
      "cell_type": "markdown",
      "source": [
        "**The Gnome Tag file doesn't contain any null values and it contains only two columns so as of now there is no need of droping and fill na values so i keep as it is**"
      ],
      "metadata": {
        "id": "6Sk6Lx_3znAv"
      }
    },
    {
      "cell_type": "markdown",
      "source": [
        "#### **link**"
      ],
      "metadata": {
        "id": "qeQCsoD571Iw"
      }
    },
    {
      "cell_type": "code",
      "source": [
        "link.isna().sum()"
      ],
      "metadata": {
        "id": "m5O6Ww98bmxR"
      },
      "execution_count": null,
      "outputs": []
    },
    {
      "cell_type": "code",
      "source": [
        "link.describe()"
      ],
      "metadata": {
        "id": "rXamlua28-P_"
      },
      "execution_count": null,
      "outputs": []
    },
    {
      "cell_type": "code",
      "source": [
        "link.info()"
      ],
      "metadata": {
        "id": "lqvMPNEe82vQ"
      },
      "execution_count": null,
      "outputs": []
    },
    {
      "cell_type": "markdown",
      "source": [
        "- Find:\n",
        "\n",
        "    I Found the link dataset contains some NaN values that is in tmdbId column.\n",
        "\n",
        "- Decision:\n",
        "\n",
        "    I'm gonna get the movie information using IMDB, So, keeping TMDB info only increase my size of dataset,So I'm gonna drop the **tmdbId** column"
      ],
      "metadata": {
        "id": "pUCmxOeK87hL"
      }
    },
    {
      "cell_type": "code",
      "source": [
        "#Droping TMDB Dataset\n",
        "link.drop(columns=\"tmdbId\",inplace=True)"
      ],
      "metadata": {
        "id": "U2YV2iCVArah"
      },
      "execution_count": null,
      "outputs": []
    },
    {
      "cell_type": "code",
      "source": [
        "link"
      ],
      "metadata": {
        "id": "2As6U2VVBFNk"
      },
      "execution_count": null,
      "outputs": []
    },
    {
      "cell_type": "markdown",
      "source": [
        "#### tags"
      ],
      "metadata": {
        "id": "YB6JnZRB-GTr"
      }
    },
    {
      "cell_type": "code",
      "source": [
        "tags"
      ],
      "metadata": {
        "id": "oT064vdpcDer"
      },
      "execution_count": null,
      "outputs": []
    },
    {
      "cell_type": "code",
      "source": [
        "tags.describe()"
      ],
      "metadata": {
        "id": "PuY6XR24-WGA"
      },
      "execution_count": null,
      "outputs": []
    },
    {
      "cell_type": "code",
      "source": [
        "tags.info()"
      ],
      "metadata": {
        "id": "6X5WBs1L-gVc"
      },
      "execution_count": null,
      "outputs": []
    },
    {
      "cell_type": "code",
      "source": [
        "tags.isna().sum()"
      ],
      "metadata": {
        "id": "Ptu56vf3-ll-"
      },
      "execution_count": null,
      "outputs": []
    },
    {
      "cell_type": "code",
      "source": [
        "tags[tags[\"tag\"].isna()]"
      ],
      "metadata": {
        "id": "XAEEOKhA-qlZ"
      },
      "execution_count": null,
      "outputs": []
    },
    {
      "cell_type": "code",
      "source": [
        "mode=tags[\"tag\"].mode().iloc[0]\n",
        "tags[\"tag\"].fillna(mode,inplace=True)"
      ],
      "metadata": {
        "id": "2wrRL6as-3oF"
      },
      "execution_count": null,
      "outputs": []
    },
    {
      "cell_type": "code",
      "source": [
        "tags.isna().sum()"
      ],
      "metadata": {
        "id": "xhm6slNv_VCE"
      },
      "execution_count": null,
      "outputs": []
    },
    {
      "cell_type": "markdown",
      "source": [],
      "metadata": {
        "id": "MHJIOqQp-3Kr"
      }
    }
  ]
}